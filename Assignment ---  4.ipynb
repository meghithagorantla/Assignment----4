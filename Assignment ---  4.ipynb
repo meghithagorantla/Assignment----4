{
 "cells": [
  {
   "cell_type": "code",
   "execution_count": null,
   "id": "0ba0961b",
   "metadata": {},
   "outputs": [],
   "source": [
    "#1. Given a list of numbers, write a python program that returns a new list which Has all \n",
    "#duplicate elements removed. And is sorted in an increasing order.\n",
    " #Ex:\n",
    "#Input:\n",
    "#[2,1,3,4,2,3,3,2,7,9,8,7]\n",
    "#Output:\n",
    "#[1,2,3,4,7,8,9"
   ]
  },
  {
   "cell_type": "code",
   "execution_count": 1,
   "id": "46ffb1d7",
   "metadata": {},
   "outputs": [
    {
     "data": {
      "text/plain": [
       "[1, 2, 3, 4, 7, 8, 9]"
      ]
     },
     "execution_count": 1,
     "metadata": {},
     "output_type": "execute_result"
    }
   ],
   "source": [
    "list1=[2,1,3,4,2,3,3,2,7,9,8,7]\n",
    "s=set(list1)\n",
    "s\n",
    "list2=list(s)\n",
    "list2.sort()\n",
    "list2"
   ]
  },
  {
   "cell_type": "code",
   "execution_count": null,
   "id": "a89ccbae",
   "metadata": {},
   "outputs": [],
   "source": [
    "#2. Write a Python program where you will iterate over both keys and values in \n",
    "#dictionaries"
   ]
  },
  {
   "cell_type": "code",
   "execution_count": 3,
   "id": "6de49855",
   "metadata": {},
   "outputs": [
    {
     "data": {
      "text/plain": [
       "{1: 'maggie', 2: 'cherry', 3: 'vinay', 4: 'jyothi'}"
      ]
     },
     "execution_count": 3,
     "metadata": {},
     "output_type": "execute_result"
    }
   ],
   "source": [
    "dic={1:\"maggie\",2:\"cherry\",3:\"vinay\",4:\"jyothi\"}\n",
    "dic.items()\n",
    "dic"
   ]
  },
  {
   "cell_type": "code",
   "execution_count": null,
   "id": "9f396f32",
   "metadata": {},
   "outputs": [],
   "source": [
    "#3. Write a Python program that takes a dictionary of student names and returns a list of \n",
    "#student names in alphabetical order\n",
    "#Ex:\n",
    "#Input: \n",
    "#{“Student 1”: \"Tarun\", \"Student 2”: \"Manoj\", \"Student 3”: \"Gephi”}\n",
    "#Output:\n",
    " #[“Gephi”,” \n",
    "#Manoj”,” Tarun”]\n"
   ]
  },
  {
   "cell_type": "code",
   "execution_count": 10,
   "id": "aeb2fa3b",
   "metadata": {},
   "outputs": [
    {
     "name": "stdout",
     "output_type": "stream",
     "text": [
      "['Gephi', 'Manoj', 'Tarun']\n"
     ]
    }
   ],
   "source": [
    "dic={\"Student 1\": \"Tarun\", \"Student 2\": \"Manoj\", \"Student 3\": \"Gephi\"}\n",
    "l=[]\n",
    "for keys,values in dic.items():\n",
    "     l.append(values)\n",
    "     l.sort()\n",
    "print(l)"
   ]
  },
  {
   "cell_type": "code",
   "execution_count": null,
   "id": "325b0063",
   "metadata": {},
   "outputs": [],
   "source": [
    "#4. Write a Python which returns a new list of Booleans, from a given number. Iterating \n",
    "#through the number one digit at a time, append True if the digit is 1 and False if it is 0.\n",
    "#Ex:\n",
    "#Input: “01001”\n",
    "#Output: [“False”, “True”, “False”,” False”,” True”]"
   ]
  },
  {
   "cell_type": "code",
   "execution_count": 12,
   "id": "b7bace69",
   "metadata": {},
   "outputs": [
    {
     "name": "stdout",
     "output_type": "stream",
     "text": [
      "['False', 'True', 'False', 'False', 'True']\n"
     ]
    }
   ],
   "source": [
    "x=\"01001\"\n",
    "l=[]\n",
    "for i in x:\n",
    "    if i==\"1\":\n",
    "        l.append(\"True\")\n",
    "    elif i==\"0\":\n",
    "        l.append(\"False\")\n",
    "print(l)    "
   ]
  },
  {
   "cell_type": "code",
   "execution_count": null,
   "id": "cde7f3e7",
   "metadata": {},
   "outputs": [],
   "source": [
    "#6. Given a dictionary containing the names and ages of a group of people, return the \n",
    "#name of the oldest person\n",
    "#Ex:\n",
    "#Input: {\"Tmma\": 41, \"Ackes\": 45, \"myna\": 15, \"Benthon\": 29}\n",
    "#Output: “Ackes”"
   ]
  },
  {
   "cell_type": "code",
   "execution_count": 17,
   "id": "8a51a092",
   "metadata": {},
   "outputs": [
    {
     "name": "stdout",
     "output_type": "stream",
     "text": [
      "Ackes\n"
     ]
    }
   ],
   "source": [
    "dic={\"Tmma\": 41, \"Ackes\": 45, \"myna\": 15, \"Benthon\": 29}\n",
    "x=max(dic.values())\n",
    "for i in dic:\n",
    "    if x==dic[i]:\n",
    "        print(i)\n"
   ]
  },
  {
   "cell_type": "code",
   "execution_count": null,
   "id": "6d1851ac",
   "metadata": {},
   "outputs": [],
   "source": [
    "#5)write a Python program where you will return a dictionary where the keys will be the\n",
    "#character and the values will be the occurrence of the character in the string, and it \n",
    "#should for any string inputs (dynamic)\n",
    "#Ex:\n",
    "#Input: “my name is ame”\n",
    "#Output: {“m”:3,” y”:1,” n”:1,” a”:2,” e”:2,” i”:1,” s”:1}"
   ]
  },
  {
   "cell_type": "code",
   "execution_count": 23,
   "id": "f98017c9",
   "metadata": {},
   "outputs": [
    {
     "name": "stdout",
     "output_type": "stream",
     "text": [
      "Enter the string : my name is maggie\n",
      "{'e': 2, 'i': 2, 'n': 1, 'g': 2, ' ': 3, 's': 1, 'a': 2, 'm': 3, 'y': 1}\n"
     ]
    }
   ],
   "source": [
    "x=input(\"Enter the string : \")\n",
    "b=set(x)\n",
    "c=list(b)\n",
    "dict1=dict()\n",
    "for i in c:\n",
    "    dict1.update({i:x.count(i)})\n",
    "print(dict1)"
   ]
  },
  {
   "cell_type": "code",
   "execution_count": null,
   "id": "885b926a",
   "metadata": {},
   "outputs": [],
   "source": [
    "#7. Write a Python program to create a Rock, Paper, Scissor game, use two inputs for two \n",
    "#players:\n",
    "#Conditions: -Rock beats Scissors, Scissors beats Paper, Paper beats Rock"
   ]
  },
  {
   "cell_type": "code",
   "execution_count": 24,
   "id": "530b6dd3",
   "metadata": {},
   "outputs": [
    {
     "name": "stdout",
     "output_type": "stream",
     "text": [
      "enter the person1rock\n",
      "enter the person2paper\n",
      "person2 wins\n"
     ]
    }
   ],
   "source": [
    "P1=input(\"enter the person1\")\n",
    "P2=input('enter the person2')\n",
    "if P1==\"rock\":\n",
    "    if P2==\"rock\":\n",
    "        print(\"match is tie\")\n",
    "    elif P2==\"paper\":\n",
    "        print(\"person2 wins\")\n",
    "    elif P2==\"scissor\":\n",
    "        print(\"person1 wins\")\n",
    "elif P1==\"paper\":\n",
    "    if P2==\"paper\":\n",
    "        print(\"match is tie\")\n",
    "    elif P2==\"scissor\":\n",
    "        print(\"person2 wins\")\n",
    "    elif P2==\"rock\":\n",
    "        print(\"person1 wins\")\n",
    "elif P1==\"scissor\":\n",
    "    if P2==\"scissor\":\n",
    "        print(\"match is tie\")\n",
    "    elif P2==\"rock\":\n",
    "        print(\"person2 wins\")\n",
    "    elif P2==\"paper\":\n",
    "        print(\"person1 wins\")\n",
    "else:\n",
    "    print('Invalid input')"
   ]
  },
  {
   "cell_type": "code",
   "execution_count": null,
   "id": "b3ee994c",
   "metadata": {},
   "outputs": [],
   "source": [
    "#8. Create a program that returns a list of items that you can afford in the store with the \n",
    "#money you have in your wallet. Create a dictionary with items as key and price as \n",
    "#values\n",
    "#Ex:\n",
    "#Input: \n",
    "#{“water bottles”: “20”,” chips”:10,” Iphone”;49000“,” towel”:90,” pens”:58,” cake”;400}\n",
    "#Your wallet balance: -50\n",
    "#Output: [“water bottles”, “chips”]"
   ]
  },
  {
   "cell_type": "code",
   "execution_count": 23,
   "id": "bf5bbb72",
   "metadata": {},
   "outputs": [
    {
     "name": "stdout",
     "output_type": "stream",
     "text": [
      "['water bottles', 'chips']\n"
     ]
    }
   ],
   "source": [
    "dic={\"water bottles\": 20,\"chips\":10,\"Iphone\":49000,\"towel\":90,\"pens\":58,\"cake\":400}\n",
    "l=[]\n",
    "for keys,values in dic.items():\n",
    "    if values<50:\n",
    "        l.append(keys)\n",
    "print(l)\n",
    "        \n",
    "        \n",
    "    \n",
    "    "
   ]
  },
  {
   "cell_type": "code",
   "execution_count": null,
   "id": "7002a0b3",
   "metadata": {},
   "outputs": [],
   "source": [
    "#9. Write a Python program to create a union of sets"
   ]
  },
  {
   "cell_type": "code",
   "execution_count": 24,
   "id": "74837b6a",
   "metadata": {},
   "outputs": [
    {
     "data": {
      "text/plain": [
       "{1, 2, 3, 4, 5, 6}"
      ]
     },
     "execution_count": 24,
     "metadata": {},
     "output_type": "execute_result"
    }
   ],
   "source": [
    "set1={1,2,3}\n",
    "set2={4,5,6}\n",
    "set3=set1.union(set2)\n",
    "set3"
   ]
  },
  {
   "cell_type": "code",
   "execution_count": 28,
   "id": "c78d1092",
   "metadata": {},
   "outputs": [],
   "source": [
    "#10. Write a Python program to check if a given value is present in a set or not\n",
    "#(Dynamic)\n"
   ]
  },
  {
   "cell_type": "code",
   "execution_count": 33,
   "id": "5088d2c9",
   "metadata": {},
   "outputs": [
    {
     "name": "stdout",
     "output_type": "stream",
     "text": [
      "2\n",
      "value is present\n"
     ]
    }
   ],
   "source": [
    "set={1,2,3,4}\n",
    "x=int(input())\n",
    "for i in set:\n",
    "    if i==x:\n",
    "        print(\"value is present\")\n",
    "   "
   ]
  },
  {
   "cell_type": "code",
   "execution_count": null,
   "id": "3fd75d8c",
   "metadata": {},
   "outputs": [],
   "source": [
    "#11. Write a Python program to find the occurrences of 3 most common words in a \n",
    "#given text. And make it as a dictionaries\n",
    "##Ex:\n",
    "#Input:\n",
    "#” Cat dog dog cat horse dog dog mouse horse dog mouse tiger lion tiger \n",
    "#cat mouse snail”\n",
    "#Output: (“dog”:5,”cat”:3,” mouse”;3)"
   ]
  },
  {
   "cell_type": "code",
   "execution_count": 13,
   "id": "77e06a78",
   "metadata": {},
   "outputs": [
    {
     "name": "stdout",
     "output_type": "stream",
     "text": [
      "{'cat': 3, 'dog': 5, 'mouse': 3}\n"
     ]
    }
   ],
   "source": [
    "text=\"cat dog dog cat horse dog dog mouse horse dog mouse tiger lion tiger cat mouse snail\"\n",
    "text1=text.split()\n",
    "text1\n",
    "l=[]\n",
    "dict1={}\n",
    "for i in text1:\n",
    "    if text1.count(i)>2:\n",
    "        if i in dict1:\n",
    "            dict1[i]+=1\n",
    "        else:\n",
    "            dict1[i]=1\n",
    "print(dict1)\n",
    "\n",
    "        \n"
   ]
  },
  {
   "cell_type": "code",
   "execution_count": null,
   "id": "fd652895",
   "metadata": {},
   "outputs": [],
   "source": [
    "#12. Write a Python program that accepts name of given subject and mark, and \n",
    "#make subjects as keys in dictionaries and marks as values and print the final\n",
    "#dictionary with subjects and marks"
   ]
  },
  {
   "cell_type": "code",
   "execution_count": 22,
   "id": "e7188dcb",
   "metadata": {},
   "outputs": [
    {
     "name": "stdout",
     "output_type": "stream",
     "text": [
      "{'english': 56, 'hindi': 98, 'telugu': 75, 'social': 66}\n"
     ]
    }
   ],
   "source": [
    "list1=[\"english\",\"hindi\",\"telugu\",\"social\"]\n",
    "list2=[56,98,75,66]\n",
    "dict1=dict()\n",
    "for i in range(len(list1)):\n",
    "    dict1.update({list1[i]:list2[i]})\n",
    "print(dict1)"
   ]
  },
  {
   "cell_type": "code",
   "execution_count": null,
   "id": "3ce7808f",
   "metadata": {},
   "outputs": [],
   "source": []
  }
 ],
 "metadata": {
  "kernelspec": {
   "display_name": "Python 3 (ipykernel)",
   "language": "python",
   "name": "python3"
  },
  "language_info": {
   "codemirror_mode": {
    "name": "ipython",
    "version": 3
   },
   "file_extension": ".py",
   "mimetype": "text/x-python",
   "name": "python",
   "nbconvert_exporter": "python",
   "pygments_lexer": "ipython3",
   "version": "3.9.13"
  }
 },
 "nbformat": 4,
 "nbformat_minor": 5
}
